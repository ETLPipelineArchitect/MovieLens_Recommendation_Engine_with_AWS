{
    "cells": [
        {
            "cell_type": "markdown",
            "metadata": {},
            "source": [
                "# Data Visualization\n",
                "Visualizing the results from the data analysis."
            ]
        },
        {
            "cell_type": "code",
            "execution_count": 1,
            "metadata": {},
            "outputs": [],
            "source": [
                "import pandas as pd\n",
                "import matplotlib.pyplot as plt\n",
                "import seaborn as sns\n",
                "\n",
                "# Load Data from S3 (Assuming data is downloaded locally)\n",
                "ratings_over_years = pd.read_csv('data/ratings_over_years.csv')\n",
                "\n",
                "# Plot Average Ratings Over Years\n",
                "plt.figure(figsize=(12, 6))\n",
                "sns.lineplot(data=ratings_over_years, x='year', y='avg_rating')\n",
                "plt.title('Average Movie Ratings Over Years')\n",
                "plt.xlabel('Year')\n",
                "plt.ylabel('Average Rating')\n",
                "plt.show()\n"
            ]
        }
    ],
    "metadata": {
        "kernelspec": {
            "display_name": "Python 3",
            "language": "python",
            "name": "python3"
        },
        "language_info": {
            "name": "python",
            "version": "3.8.5",
            "mimetype": "text/x-python",
            "codemirror_mode": {
                "name": "ipython",
                "version": 3
            },
            "pygments_lexer": "ipython3",
            "nbconvert_exporter": "python",
            "file_extension": ".py"
        }
    },
    "nbformat": 4,
    "nbformat_minor": 5
}